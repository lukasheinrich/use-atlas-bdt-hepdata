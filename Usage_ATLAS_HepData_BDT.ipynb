{
 "cells": [
  {
   "cell_type": "code",
   "execution_count": 14,
   "metadata": {},
   "outputs": [],
   "source": [
    "import ROOT\n",
    "import array\n",
    "import matplotlib.pyplot as plt\n",
    "import numpy as np\n",
    "%matplotlib inline"
   ]
  },
  {
   "cell_type": "code",
   "execution_count": 2,
   "metadata": {},
   "outputs": [
    {
     "name": "stdout",
     "output_type": "stream",
     "text": [
      "--2019-04-01 07:35:38--  https://www.hepdata.net/record/resource/406719?view=true\n",
      "Resolving www.hepdata.net (www.hepdata.net)... 188.184.64.140\n",
      "Connecting to www.hepdata.net (www.hepdata.net)|188.184.64.140|:443... connected.\n",
      "HTTP request sent, awaiting response... 200 OK\n",
      "Length: 953915 (932K) [text/xml]\n",
      "Saving to: ‘bdt.xml’\n",
      "\n",
      "bdt.xml             100%[===================>] 931.56K   605KB/s    in 1.5s    \n",
      "\n",
      "2019-04-01 07:35:40 (605 KB/s) - ‘bdt.xml’ saved [953915/953915]\n",
      "\n"
     ]
    }
   ],
   "source": [
    "!wget -O bdt.xml https://www.hepdata.net/record/resource/406719?view=true"
   ]
  },
  {
   "cell_type": "code",
   "execution_count": 15,
   "metadata": {},
   "outputs": [
    {
     "data": {
      "text/plain": [
       "<ROOT.TMVA::MethodBDT object (\"BDT\") at 0x55cf1e6050e0>"
      ]
     },
     "execution_count": 15,
     "metadata": {},
     "output_type": "execute_result"
    },
    {
     "name": "stdout",
     "output_type": "stream",
     "text": [
      "                         : Booking \"BDT method\" of type \"BDT\" from bdt.xml.\n",
      "                         : Reading weight file: bdt.xml\n",
      "<HEADER> DataSetInfo              : [Default] : Added class \"Signal\"\n",
      "<HEADER> DataSetInfo              : [Default] : Added class \"Background\"\n",
      "                         : Booked classifier \"BDT\" of type: \"BDT\"\n"
     ]
    }
   ],
   "source": [
    "ROOT.TMVA.Tools.Instance()\n",
    "reader = ROOT.TMVA.Reader()\n",
    "\n",
    "var = [array.array('f',[0]) for i in range(7)]\n",
    "reader.AddVariable(\"MET\",var[0]);\n",
    "reader.AddVariable(\"MT\",var[1]);\n",
    "reader.AddVariable(\"dMT200\",var[2]);\n",
    "reader.AddVariable(\"m_tophad\",var[3]);\n",
    "reader.AddVariable(\"m_toplep200\",var[4]);\n",
    "reader.AddVariable(\"dphi_lep_nu200\",var[5]);\n",
    "reader.AddVariable(\"dphi_rjet_lep\",var[6]);\n",
    "\n",
    "reader.BookMVA(\"BDT method\", \"bdt.xml\")"
   ]
  },
  {
   "cell_type": "code",
   "execution_count": 16,
   "metadata": {},
   "outputs": [
    {
     "data": {
      "text/plain": [
       "[<matplotlib.lines.Line2D at 0x7f9a41e490b8>]"
      ]
     },
     "execution_count": 16,
     "metadata": {},
     "output_type": "execute_result"
    },
    {
     "data": {
      "image/png": "[encoded data removed]",
      "text/plain": [
       "<Figure size 432x288 with 1 Axes>"
      ]
     },
     "metadata": {
      "needs_background": "light"
     },
     "output_type": "display_data"
    }
   ],
   "source": [
    "dphis = np.linspace(0,np.pi)\n",
    "vals = []\n",
    "for v in dphis:\n",
    "    var[0][0] = 100000\n",
    "    var[1][0] = 90000\n",
    "    var[2][0] = 30000\n",
    "    var[3][0] = 50000\n",
    "    var[4][0] = 10000\n",
    "    var[5][0] = 0.1\n",
    "    var[6][0] = v\n",
    "    vals.append(reader.EvaluateMVA(\"BDT method\"))\n",
    "\n",
    "plt.plot(dphis,vals)"
   ]
  }
 ],
 "metadata": {
  "kernelspec": {
   "display_name": "Python 3",
   "language": "python",
   "name": "python3"
  },
  "language_info": {
   "codemirror_mode": {
    "name": "ipython",
    "version": 3
   },
   "file_extension": ".py",
   "mimetype": "text/x-python",
   "name": "python",
   "nbconvert_exporter": "python",
   "pygments_lexer": "ipython3",
   "version": "3.7.1"
  }
 },
 "nbformat": 4,
 "nbformat_minor": 2
}
